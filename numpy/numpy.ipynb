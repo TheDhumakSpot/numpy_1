{
 "cells": [
  {
   "cell_type": "markdown",
   "id": "2fed0c06",
   "metadata": {},
   "source": [
    "## Create"
   ]
  },
  {
   "cell_type": "code",
   "execution_count": 1,
   "id": "d0a293cf",
   "metadata": {},
   "outputs": [],
   "source": [
    "import numpy as np"
   ]
  },
  {
   "cell_type": "code",
   "execution_count": 2,
   "id": "2a730812",
   "metadata": {},
   "outputs": [
    {
     "name": "stdout",
     "output_type": "stream",
     "text": [
      "[1, 2, 3, 9, 8, 7]\n"
     ]
    }
   ],
   "source": [
    "#Not using np.array\n",
    "a=([1,2,3])\n",
    "b=([9,8,7])\n",
    "c=a+b\n",
    "print(c)"
   ]
  },
  {
   "cell_type": "code",
   "execution_count": 3,
   "id": "b3e66216",
   "metadata": {},
   "outputs": [
    {
     "data": {
      "text/plain": [
       "list"
      ]
     },
     "execution_count": 3,
     "metadata": {},
     "output_type": "execute_result"
    }
   ],
   "source": [
    "type(c)"
   ]
  },
  {
   "cell_type": "code",
   "execution_count": 4,
   "id": "df3d04aa",
   "metadata": {},
   "outputs": [
    {
     "name": "stdout",
     "output_type": "stream",
     "text": [
      "[[10 10 10]]\n"
     ]
    }
   ],
   "source": [
    "#Using np.array\n",
    "a=np.array([[1,2,3]])\n",
    "b=np.array([[9,8,7]])\n",
    "c=a+b\n",
    "print(c)"
   ]
  },
  {
   "cell_type": "code",
   "execution_count": 5,
   "id": "f3981171",
   "metadata": {},
   "outputs": [
    {
     "data": {
      "text/plain": [
       "numpy.ndarray"
      ]
     },
     "execution_count": 5,
     "metadata": {},
     "output_type": "execute_result"
    }
   ],
   "source": [
    "type(c)"
   ]
  },
  {
   "cell_type": "code",
   "execution_count": 6,
   "id": "88e8a215",
   "metadata": {},
   "outputs": [
    {
     "data": {
      "text/plain": [
       "array([[[0.98099402, 0.92706803, 0.66918558, 0.6596633 ],\n",
       "        [0.20288303, 0.55906414, 0.22064885, 0.26861771],\n",
       "        [0.28410647, 0.45601343, 0.78036534, 0.03711516]],\n",
       "\n",
       "       [[0.77778546, 0.62458024, 0.73317347, 0.63520906],\n",
       "        [0.51855194, 0.47112811, 0.63362492, 0.38730292],\n",
       "        [0.53429474, 0.69902102, 0.21196182, 0.04850661]]])"
      ]
     },
     "execution_count": 6,
     "metadata": {},
     "output_type": "execute_result"
    }
   ],
   "source": [
    "#In-built arrays\n",
    "array1=np.random.rand(2,3,4) \n",
    "#2 is number of arrays,\n",
    "# 3 is number of rows\n",
    "#4 is number of columns\n",
    "array1"
   ]
  },
  {
   "cell_type": "code",
   "execution_count": 7,
   "id": "fda9b38e",
   "metadata": {},
   "outputs": [
    {
     "data": {
      "text/plain": [
       "array([12,  7, 11, 11])"
      ]
     },
     "execution_count": 7,
     "metadata": {},
     "output_type": "execute_result"
    }
   ],
   "source": [
    "np.random.randint(5,20,4)\n",
    "#returning 4 random values between 5 to 20"
   ]
  },
  {
   "cell_type": "code",
   "execution_count": 8,
   "id": "578c2e82",
   "metadata": {},
   "outputs": [
    {
     "data": {
      "text/plain": [
       "array([[0., 0., 0.],\n",
       "       [0., 0., 0.],\n",
       "       [0., 0., 0.],\n",
       "       [0., 0., 0.]])"
      ]
     },
     "execution_count": 8,
     "metadata": {},
     "output_type": "execute_result"
    }
   ],
   "source": [
    "#Here all values will be zeroes\n",
    "a1=np.zeros([4,3])\n",
    "a1\n",
    "#4 is no. of rows\n",
    "#3 is no. of columns"
   ]
  },
  {
   "cell_type": "code",
   "execution_count": 9,
   "id": "ef76554c",
   "metadata": {},
   "outputs": [
    {
     "data": {
      "text/plain": [
       "array([[1., 1., 1.],\n",
       "       [1., 1., 1.]])"
      ]
     },
     "execution_count": 9,
     "metadata": {},
     "output_type": "execute_result"
    }
   ],
   "source": [
    "#Here all values will be one\n",
    "a2=np.ones([2,3])\n",
    "a2"
   ]
  },
  {
   "cell_type": "code",
   "execution_count": 10,
   "id": "9388e53f",
   "metadata": {},
   "outputs": [
    {
     "data": {
      "text/plain": [
       "array([[4, 4, 4],\n",
       "       [4, 4, 4]])"
      ]
     },
     "execution_count": 10,
     "metadata": {},
     "output_type": "execute_result"
    }
   ],
   "source": [
    "a3=np.full([2,3],4)\n",
    "# An array matrix with 2 rows and 3 col with value as 4 \n",
    "a3"
   ]
  },
  {
   "cell_type": "code",
   "execution_count": 11,
   "id": "04a8e88f",
   "metadata": {},
   "outputs": [
    {
     "name": "stdout",
     "output_type": "stream",
     "text": [
      "Shape :  (2, 3)\n",
      "Size :  6\n"
     ]
    }
   ],
   "source": [
    "print('Shape : ',a3.shape)\n",
    "print('Size : ',a3.size)"
   ]
  },
  {
   "cell_type": "markdown",
   "id": "5cca86f3",
   "metadata": {},
   "source": [
    "## Slicing"
   ]
  },
  {
   "cell_type": "code",
   "execution_count": 12,
   "id": "48c73085",
   "metadata": {},
   "outputs": [
    {
     "data": {
      "text/plain": [
       "array([[0.77778546, 0.62458024, 0.73317347, 0.63520906],\n",
       "       [0.51855194, 0.47112811, 0.63362492, 0.38730292],\n",
       "       [0.53429474, 0.69902102, 0.21196182, 0.04850661]])"
      ]
     },
     "execution_count": 12,
     "metadata": {},
     "output_type": "execute_result"
    }
   ],
   "source": [
    "arrayA=array1[1]\n",
    "arrayA\n",
    "#indexing starts from 0 \n",
    "#Since there are only two arrays in array1, array1[2] will give an error"
   ]
  },
  {
   "cell_type": "code",
   "execution_count": 13,
   "id": "343b122a",
   "metadata": {},
   "outputs": [
    {
     "data": {
      "text/plain": [
       "array([[0.77778546, 0.62458024, 0.73317347, 0.63520906],\n",
       "       [0.51855194, 0.47112811, 0.63362492, 0.38730292],\n",
       "       [0.53429474, 0.69902102, 0.21196182, 0.04850661]])"
      ]
     },
     "execution_count": 13,
     "metadata": {},
     "output_type": "execute_result"
    }
   ],
   "source": [
    "slicer=array1[-1]\n",
    "slicer\n",
    "#It will slice arrays, not values in that array"
   ]
  },
  {
   "cell_type": "code",
   "execution_count": 14,
   "id": "b0cfff51",
   "metadata": {},
   "outputs": [
    {
     "name": "stdout",
     "output_type": "stream",
     "text": [
      "Selecting only 1 array :\n",
      " [[0.77778546 0.62458024 0.73317347 0.63520906]\n",
      " [0.51855194 0.47112811 0.63362492 0.38730292]\n",
      " [0.53429474 0.69902102 0.21196182 0.04850661]]\n",
      "\n",
      "Selecting only 1 array with specific rows :\n",
      " [[0.77778546 0.62458024 0.73317347 0.63520906]\n",
      " [0.51855194 0.47112811 0.63362492 0.38730292]\n",
      " [0.53429474 0.69902102 0.21196182 0.04850661]]\n",
      "\n",
      "Selecting only 1 array with specific rows and columns :\n",
      " [0.53429474 0.69902102 0.21196182 0.04850661]\n",
      "\n",
      "Selecting only 1 array with specific rows and columns and values :\n",
      " [0.53429474 0.69902102]\n"
     ]
    }
   ],
   "source": [
    "#go on slicing\n",
    "slicer1=array1[-1]\n",
    "slicer2=array1[-1][0:3]\n",
    "slicer3=array1[-1][0:3][2]\n",
    "slicer4=array1[-1][0:3][2][0:2]\n",
    "print('Selecting only 1 array :\\n',slicer1)\n",
    "print()\n",
    "print('Selecting only 1 array with specific rows :\\n',slicer2)\n",
    "print()\n",
    "print('Selecting only 1 array with specific rows and columns :\\n',slicer3)\n",
    "print()\n",
    "print('Selecting only 1 array with specific rows and columns and values :\\n',slicer4)"
   ]
  },
  {
   "cell_type": "markdown",
   "id": "253e1239",
   "metadata": {},
   "source": [
    "## Maths and Stats Operations"
   ]
  },
  {
   "cell_type": "code",
   "execution_count": 15,
   "id": "d3773e14",
   "metadata": {},
   "outputs": [
    {
     "name": "stdout",
     "output_type": "stream",
     "text": [
      "[[0.37220601 1.48249647 1.10110548]\n",
      " [0.39897447 0.74093361 1.20973867]\n",
      " [1.41949167 0.80893297 0.94196359]]\n"
     ]
    }
   ],
   "source": [
    "# Basic maths \n",
    "#For addition,subtraction,multiplication and division ,it is not necessary to have a square matrix\n",
    "A=np.random.rand(3,3)\n",
    "B=np.random.rand(3,3)\n",
    "#Here shapes of arrays should be same\n",
    "C=np.add(A,B)  #For Addition\n",
    "print(C)"
   ]
  },
  {
   "cell_type": "code",
   "execution_count": 16,
   "id": "0bf82a72",
   "metadata": {},
   "outputs": [
    {
     "name": "stdout",
     "output_type": "stream",
     "text": [
      "[[ 0.2064667  -0.4762519   0.84277407]\n",
      " [ 0.11235381  0.04405387 -0.34694624]\n",
      " [ 0.09674983 -0.39023722 -0.1613665 ]]\n"
     ]
    }
   ],
   "source": [
    "D=np.subtract(A,B)   #For Subraction\n",
    "print(D)"
   ]
  },
  {
   "cell_type": "code",
   "execution_count": 17,
   "id": "b2d75fcf",
   "metadata": {},
   "outputs": [
    {
     "name": "stdout",
     "output_type": "stream",
     "text": [
      "[[0.0239772  0.49274498 0.12554129]\n",
      " [0.03663931 0.13676047 0.33577399]\n",
      " [0.50139902 0.12552186 0.21531407]]\n"
     ]
    }
   ],
   "source": [
    "E=np.multiply(A,B)  #For Multiplication\n",
    "print(E)"
   ]
  },
  {
   "cell_type": "code",
   "execution_count": 18,
   "id": "ff35a99c",
   "metadata": {},
   "outputs": [
    {
     "name": "stdout",
     "output_type": "stream",
     "text": [
      "[[3.49146325 0.51371814 7.524751  ]\n",
      " [1.78398957 1.12643178 0.55424988]\n",
      " [1.14628679 0.34915456 0.7074919 ]]\n"
     ]
    }
   ],
   "source": [
    "F=np.divide(A,B)  #For Division\n",
    "print(F)"
   ]
  },
  {
   "cell_type": "code",
   "execution_count": 19,
   "id": "2123d2e8",
   "metadata": {},
   "outputs": [
    {
     "name": "stdout",
     "output_type": "stream",
     "text": [
      "[[0.73889253 1.04143702 0.96515897]\n",
      " [0.36274812 0.64581006 0.57650379]\n",
      " [0.35095903 1.04944623 0.4761816 ]]\n"
     ]
    }
   ],
   "source": [
    "#For Dot Product the matrix should be a square matrix\n",
    "G=np.dot(A,B)  #For Dot Product\n",
    "print(G)"
   ]
  },
  {
   "cell_type": "code",
   "execution_count": 20,
   "id": "3a230d4f",
   "metadata": {},
   "outputs": [],
   "source": [
    "#Statistics Function\n",
    "H=np.sqrt(25)\n",
    "I=np.abs(-2)\n",
    "J=np.power(2,3)\n",
    "K=np.log(25)\n",
    "L=np.exp(3)\n",
    "M=np.min(A)  #A is any list\n",
    "N=np.max(B)  #B is any list"
   ]
  },
  {
   "cell_type": "code",
   "execution_count": 21,
   "id": "503d04ff",
   "metadata": {},
   "outputs": [
    {
     "name": "stdout",
     "output_type": "stream",
     "text": [
      "Square Root :  5.0\n",
      "Absolute value :  2\n",
      "Power :  8\n",
      "Log :  3.2188758248682006\n",
      "Exponential :  20.085536923187668\n",
      "Minimum of list :  0.20934787182288883\n",
      "Maximum of list :  0.9793741875503489\n"
     ]
    }
   ],
   "source": [
    "print('Square Root : ',H)\n",
    "print('Absolute value : ',I)\n",
    "print('Power : ',J)\n",
    "print('Log : ',K)\n",
    "print('Exponential : ',L)\n",
    "print('Minimum of list : ',M)\n",
    "print('Maximum of list : ',N)"
   ]
  },
  {
   "cell_type": "markdown",
   "id": "6aa00aa4",
   "metadata": {},
   "source": [
    "## Update"
   ]
  },
  {
   "cell_type": "code",
   "execution_count": 22,
   "id": "0737ef69",
   "metadata": {},
   "outputs": [
    {
     "data": {
      "text/plain": [
       "array([[[0.25823798, 0.79444284, 0.69065952],\n",
       "        [0.45596068, 0.09876345, 0.90251195],\n",
       "        [0.67034868, 0.35079942, 0.82036213],\n",
       "        [0.70001675, 0.63667088, 0.49533803]],\n",
       "\n",
       "       [[0.80587534, 0.88395068, 0.30166643],\n",
       "        [0.32346314, 0.27985575, 0.09792666],\n",
       "        [0.45218085, 0.49709557, 0.16905831],\n",
       "        [0.12559751, 0.76120281, 0.39805723]]])"
      ]
     },
     "execution_count": 22,
     "metadata": {},
     "output_type": "execute_result"
    }
   ],
   "source": [
    "# To update a value from a array.\n",
    "a4=np.random.rand(2,4,3)\n",
    "a4"
   ]
  },
  {
   "cell_type": "code",
   "execution_count": 23,
   "id": "5a853afc",
   "metadata": {},
   "outputs": [
    {
     "data": {
      "text/plain": [
       "array([[[ 0.25823798,  0.79444284,  0.69065952],\n",
       "        [ 0.45596068,  0.09876345,  0.90251195],\n",
       "        [ 0.67034868,  0.35079942,  0.82036213],\n",
       "        [ 0.70001675,  0.63667088,  0.49533803]],\n",
       "\n",
       "       [[13.        ,  0.88395068,  0.30166643],\n",
       "        [ 0.32346314,  0.27985575,  0.09792666],\n",
       "        [ 0.45218085,  0.49709557,  0.16905831],\n",
       "        [ 0.12559751,  0.76120281,  0.39805723]]])"
      ]
     },
     "execution_count": 23,
     "metadata": {},
     "output_type": "execute_result"
    }
   ],
   "source": [
    "# If we want to update the very first value\n",
    "a4[1][0][0]=13\n",
    "a4"
   ]
  },
  {
   "cell_type": "code",
   "execution_count": 24,
   "id": "e8c3d1fc",
   "metadata": {},
   "outputs": [
    {
     "data": {
      "text/plain": [
       "array([[[ 0.25823798,  0.69065952,  0.79444284],\n",
       "        [ 0.09876345,  0.45596068,  0.90251195],\n",
       "        [ 0.35079942,  0.67034868,  0.82036213],\n",
       "        [ 0.49533803,  0.63667088,  0.70001675]],\n",
       "\n",
       "       [[ 0.30166643,  0.88395068, 13.        ],\n",
       "        [ 0.09792666,  0.27985575,  0.32346314],\n",
       "        [ 0.16905831,  0.45218085,  0.49709557],\n",
       "        [ 0.12559751,  0.39805723,  0.76120281]]])"
      ]
     },
     "execution_count": 24,
     "metadata": {},
     "output_type": "execute_result"
    }
   ],
   "source": [
    "a4.sort()  #Sort rows wise only\n",
    "a4"
   ]
  },
  {
   "cell_type": "code",
   "execution_count": 25,
   "id": "4c986720",
   "metadata": {},
   "outputs": [
    {
     "data": {
      "text/plain": [
       "(2, 4, 3)"
      ]
     },
     "execution_count": 25,
     "metadata": {},
     "output_type": "execute_result"
    }
   ],
   "source": [
    "a4.shape"
   ]
  },
  {
   "cell_type": "code",
   "execution_count": 26,
   "id": "77666ee7",
   "metadata": {},
   "outputs": [
    {
     "data": {
      "text/plain": [
       "(1, 2, 12)"
      ]
     },
     "execution_count": 26,
     "metadata": {},
     "output_type": "execute_result"
    }
   ],
   "source": [
    "a5=a4.reshape((1,2,-1)) #-1 specifies we are not interested in last value\n",
    "a5.shape"
   ]
  },
  {
   "cell_type": "code",
   "execution_count": 27,
   "id": "98ad6e0a",
   "metadata": {},
   "outputs": [
    {
     "name": "stdout",
     "output_type": "stream",
     "text": [
      "a6 is  [0. 0. 0. 0. 0.]\n",
      "a7 is  [0. 0. 0. 0. 0. 3. 4.]\n"
     ]
    }
   ],
   "source": [
    "#To add new values at the end ,use np.append\n",
    "a6=np.zeros((5))\n",
    "print('a6 is ',a6)\n",
    "a7=np.append(a6,[3,4])\n",
    "print('a7 is ',a7)"
   ]
  },
  {
   "cell_type": "code",
   "execution_count": 28,
   "id": "74aa92bf",
   "metadata": {},
   "outputs": [
    {
     "data": {
      "text/plain": [
       "array([0., 0., 1., 0., 0., 0., 3., 4.])"
      ]
     },
     "execution_count": 28,
     "metadata": {},
     "output_type": "execute_result"
    }
   ],
   "source": [
    "#To insert values in specific place (in between), use np.insert\n",
    "a8=np.insert(a7,2,1)\n",
    "a8\n",
    "#Inserting value 1, in array a6 with 2nd position\n",
    "#Indexing starts from 0"
   ]
  },
  {
   "cell_type": "markdown",
   "id": "8c5742e0",
   "metadata": {},
   "source": [
    "# Delete"
   ]
  },
  {
   "cell_type": "code",
   "execution_count": 29,
   "id": "ab08d2de",
   "metadata": {},
   "outputs": [
    {
     "data": {
      "text/plain": [
       "array([[[ 0.25823798,  0.69065952,  0.79444284],\n",
       "        [ 0.09876345,  0.45596068,  0.90251195],\n",
       "        [ 0.35079942,  0.67034868,  0.82036213],\n",
       "        [ 0.49533803,  0.63667088,  0.70001675]],\n",
       "\n",
       "       [[ 0.30166643,  0.88395068, 13.        ],\n",
       "        [ 0.09792666,  0.27985575,  0.32346314],\n",
       "        [ 0.16905831,  0.45218085,  0.49709557],\n",
       "        [ 0.12559751,  0.39805723,  0.76120281]]])"
      ]
     },
     "execution_count": 29,
     "metadata": {},
     "output_type": "execute_result"
    }
   ],
   "source": [
    "#Delete a segment of an array\n",
    "a4"
   ]
  },
  {
   "cell_type": "code",
   "execution_count": 30,
   "id": "50b57b5e",
   "metadata": {},
   "outputs": [
    {
     "data": {
      "text/plain": [
       "array([[[0.09876345, 0.45596068, 0.90251195],\n",
       "        [0.35079942, 0.67034868, 0.82036213],\n",
       "        [0.49533803, 0.63667088, 0.70001675]],\n",
       "\n",
       "       [[0.09792666, 0.27985575, 0.32346314],\n",
       "        [0.16905831, 0.45218085, 0.49709557],\n",
       "        [0.12559751, 0.39805723, 0.76120281]]])"
      ]
     },
     "execution_count": 30,
     "metadata": {},
     "output_type": "execute_result"
    }
   ],
   "source": [
    "np.delete(a4,0,axis=1)\n",
    "#will delete 1st row of both the arrays\n",
    "#axis =1 --> row"
   ]
  },
  {
   "cell_type": "code",
   "execution_count": null,
   "id": "306305ae",
   "metadata": {},
   "outputs": [],
   "source": []
  }
 ],
 "metadata": {
  "kernelspec": {
   "display_name": "Python 3 (ipykernel)",
   "language": "python",
   "name": "python3"
  },
  "language_info": {
   "codemirror_mode": {
    "name": "ipython",
    "version": 3
   },
   "file_extension": ".py",
   "mimetype": "text/x-python",
   "name": "python",
   "nbconvert_exporter": "python",
   "pygments_lexer": "ipython3",
   "version": "3.9.12"
  }
 },
 "nbformat": 4,
 "nbformat_minor": 5
}
